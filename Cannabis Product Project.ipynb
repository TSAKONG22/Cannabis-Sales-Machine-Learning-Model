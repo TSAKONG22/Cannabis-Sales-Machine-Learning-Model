{
 "cells": [
  {
   "cell_type": "markdown",
   "metadata": {},
   "source": [
    "# Title: Cannabis Retail Sales \n",
    "# Authors: Tae Sakong\n",
    "\n",
    "## Problem Statement\n",
    "- What is the domain?\n",
    "- Why the interest?\n",
    "- Existing data and models\n",
    "- Implications/Relevance\n",
    "\n",
    "## Objectives\n",
    "1. Process the data\n",
    "2. Explore the data\n",
    "3. Develop a Model\n",
    "4. Train and Fit the model\n",
    "5. Make predictions by using the model\n",
    "6. Evaluate the model\n",
    "7. What are the next steps?\n",
    "\n",
    "## Data Processing\n",
    "1. Import the data\n",
    "2. Clean and process the data\n",
    "\n",
    "## Exploratory Data Analysis:\n",
    "1. Explore the \n",
    "\n",
    "## Data Analysis\n",
    "\n",
    "1. Test Assumptions\n",
    "    - Normal Distribution\n",
    "    - Homegeneity of Variance\n",
    "\n",
    "Hypothesis:\n",
    "- Direction and magnitude?\n",
    "\n",
    "Rationale:\n",
    "- Evidence from literature, EDA, etc\n",
    "\n",
    "Predictions:\n",
    "- Direction and magnitude?\n",
    "\n",
    "## Model Development\n",
    "\n",
    "## Model Deployment\n",
    "\n",
    "## Results\n",
    "\n",
    "## Summary"
   ]
  },
  {
   "cell_type": "code",
   "execution_count": 13,
   "metadata": {},
   "outputs": [],
   "source": [
    "# Import libraries\n",
    "import numpy as np\n",
    "import pandas as pd\n",
    "import matplotlib.pyplot as plt\n",
    "%matplotlib inline"
   ]
  },
  {
   "cell_type": "markdown",
   "metadata": {},
   "source": [
    "## Data Processing:\n",
    "\n",
    "Data Source: https://data.ct.gov/api/views/ucaf-96h6/rows.csv?accessType=DOWNLOAD\n",
    "\n",
    "Summary of Data:\n",
    "- What is the data about?\n",
    "- When was the data collected?\n",
    "- What is the source of the data?\n",
    "- Who authored the data?\n",
    "- Cite the source"
   ]
  },
  {
   "cell_type": "markdown",
   "metadata": {},
   "source": [
    "### 1. Import the data"
   ]
  },
  {
   "cell_type": "code",
   "execution_count": 2,
   "metadata": {},
   "outputs": [],
   "source": [
    "# URL for dat\n",
    "url = \"https://data.ct.gov/api/views/ucaf-96h6/rows.csv?accessType=DOWNLOAD\"\n",
    "\n",
    "# Convert csv to dataframe\n",
    "df = pd.read_csv(url)"
   ]
  },
  {
   "cell_type": "code",
   "execution_count": 4,
   "metadata": {},
   "outputs": [
    {
     "data": {
      "text/html": [
       "<div>\n",
       "<style scoped>\n",
       "    .dataframe tbody tr th:only-of-type {\n",
       "        vertical-align: middle;\n",
       "    }\n",
       "\n",
       "    .dataframe tbody tr th {\n",
       "        vertical-align: top;\n",
       "    }\n",
       "\n",
       "    .dataframe thead th {\n",
       "        text-align: right;\n",
       "    }\n",
       "</style>\n",
       "<table border=\"1\" class=\"dataframe\">\n",
       "  <thead>\n",
       "    <tr style=\"text-align: right;\">\n",
       "      <th></th>\n",
       "      <th>Week Ending</th>\n",
       "      <th>Adult-Use Retail Sales</th>\n",
       "      <th>Medical Marijuana Retail Sales</th>\n",
       "      <th>Total Adult-Use and Medical Sales</th>\n",
       "      <th>Adult-Use Products Sold</th>\n",
       "      <th>Medical Products Sold</th>\n",
       "      <th>Total Products Sold</th>\n",
       "      <th>Adult-Use Average Product Price</th>\n",
       "      <th>Medical Average Product Price</th>\n",
       "    </tr>\n",
       "  </thead>\n",
       "  <tbody>\n",
       "    <tr>\n",
       "      <th>0</th>\n",
       "      <td>01/14/2023</td>\n",
       "      <td>1485019.32</td>\n",
       "      <td>1776700.69</td>\n",
       "      <td>3261720.01</td>\n",
       "      <td>33610</td>\n",
       "      <td>49312</td>\n",
       "      <td>82922</td>\n",
       "      <td>44.25</td>\n",
       "      <td>36.23</td>\n",
       "    </tr>\n",
       "    <tr>\n",
       "      <th>1</th>\n",
       "      <td>01/21/2023</td>\n",
       "      <td>1487815.81</td>\n",
       "      <td>2702525.61</td>\n",
       "      <td>4190341.42</td>\n",
       "      <td>33005</td>\n",
       "      <td>77461</td>\n",
       "      <td>110466</td>\n",
       "      <td>45.08</td>\n",
       "      <td>34.89</td>\n",
       "    </tr>\n",
       "    <tr>\n",
       "      <th>2</th>\n",
       "      <td>01/28/2023</td>\n",
       "      <td>1553216.30</td>\n",
       "      <td>2726237.56</td>\n",
       "      <td>4279453.86</td>\n",
       "      <td>34854</td>\n",
       "      <td>76450</td>\n",
       "      <td>111304</td>\n",
       "      <td>44.56</td>\n",
       "      <td>35.65</td>\n",
       "    </tr>\n",
       "    <tr>\n",
       "      <th>3</th>\n",
       "      <td>01/31/2023</td>\n",
       "      <td>578840.62</td>\n",
       "      <td>863287.86</td>\n",
       "      <td>1442128.48</td>\n",
       "      <td>12990</td>\n",
       "      <td>24023</td>\n",
       "      <td>37013</td>\n",
       "      <td>44.56</td>\n",
       "      <td>35.93</td>\n",
       "    </tr>\n",
       "    <tr>\n",
       "      <th>4</th>\n",
       "      <td>02/04/2023</td>\n",
       "      <td>1047436.20</td>\n",
       "      <td>1971731.40</td>\n",
       "      <td>3019167.60</td>\n",
       "      <td>24134</td>\n",
       "      <td>56666</td>\n",
       "      <td>80800</td>\n",
       "      <td>43.49</td>\n",
       "      <td>34.84</td>\n",
       "    </tr>\n",
       "  </tbody>\n",
       "</table>\n",
       "</div>"
      ],
      "text/plain": [
       "  Week Ending  Adult-Use Retail Sales  Medical Marijuana Retail Sales  \\\n",
       "0  01/14/2023              1485019.32                      1776700.69   \n",
       "1  01/21/2023              1487815.81                      2702525.61   \n",
       "2  01/28/2023              1553216.30                      2726237.56   \n",
       "3  01/31/2023               578840.62                       863287.86   \n",
       "4  02/04/2023              1047436.20                      1971731.40   \n",
       "\n",
       "   Total Adult-Use and Medical Sales  Adult-Use Products Sold  \\\n",
       "0                         3261720.01                    33610   \n",
       "1                         4190341.42                    33005   \n",
       "2                         4279453.86                    34854   \n",
       "3                         1442128.48                    12990   \n",
       "4                         3019167.60                    24134   \n",
       "\n",
       "   Medical Products Sold  Total Products Sold  \\\n",
       "0                  49312                82922   \n",
       "1                  77461               110466   \n",
       "2                  76450               111304   \n",
       "3                  24023                37013   \n",
       "4                  56666                80800   \n",
       "\n",
       "   Adult-Use Average Product Price  Medical Average Product Price  \n",
       "0                            44.25                          36.23  \n",
       "1                            45.08                          34.89  \n",
       "2                            44.56                          35.65  \n",
       "3                            44.56                          35.93  \n",
       "4                            43.49                          34.84  "
      ]
     },
     "execution_count": 4,
     "metadata": {},
     "output_type": "execute_result"
    }
   ],
   "source": [
    "# Inspect the dataframe\n",
    "df.head()"
   ]
  },
  {
   "cell_type": "code",
   "execution_count": 5,
   "metadata": {},
   "outputs": [
    {
     "name": "stdout",
     "output_type": "stream",
     "text": [
      "<class 'pandas.core.frame.DataFrame'>\n",
      "RangeIndex: 41 entries, 0 to 40\n",
      "Data columns (total 9 columns):\n",
      " #   Column                             Non-Null Count  Dtype  \n",
      "---  ------                             --------------  -----  \n",
      " 0   Week Ending                        41 non-null     object \n",
      " 1   Adult-Use Retail Sales             41 non-null     float64\n",
      " 2   Medical Marijuana Retail Sales     41 non-null     float64\n",
      " 3   Total Adult-Use and Medical Sales  41 non-null     float64\n",
      " 4   Adult-Use Products Sold            41 non-null     int64  \n",
      " 5   Medical Products Sold              41 non-null     int64  \n",
      " 6   Total Products Sold                41 non-null     int64  \n",
      " 7   Adult-Use Average Product Price    41 non-null     float64\n",
      " 8   Medical Average Product Price      41 non-null     float64\n",
      "dtypes: float64(5), int64(3), object(1)\n",
      "memory usage: 3.0+ KB\n"
     ]
    }
   ],
   "source": [
    "# Check datatypes and variables\n",
    "df.info()"
   ]
  },
  {
   "cell_type": "code",
   "execution_count": 9,
   "metadata": {},
   "outputs": [
    {
     "data": {
      "text/plain": [
       "Week Ending                          0\n",
       "Adult-Use Retail Sales               0\n",
       "Medical Marijuana Retail Sales       0\n",
       "Total Adult-Use and Medical Sales    0\n",
       "Adult-Use Products Sold              0\n",
       "Medical Products Sold                0\n",
       "Total Products Sold                  0\n",
       "Adult-Use Average Product Price      0\n",
       "Medical Average Product Price        0\n",
       "dtype: int64"
      ]
     },
     "execution_count": 9,
     "metadata": {},
     "output_type": "execute_result"
    }
   ],
   "source": [
    "# Check for missing values\n",
    "df.isnull().sum()"
   ]
  },
  {
   "cell_type": "markdown",
   "metadata": {},
   "source": [
    "This dataset contains 9 variables, each with 41 observations.\n",
    "\n",
    "The columns (variables) are:\n",
    "    - Week Ending\n",
    "    - Medical Marajuan Retail Sales\n",
    "    - Total Adult-Use and Medical Sales\n",
    "    - Adult-Use Products Sold\n",
    "    - Medical Products Sold\n",
    "    - Total Products Sold\n",
    "    - Adult-Use Average Product Price\n",
    "    - Medical Average Product Price\n",
    "\n",
    "\n",
    "The data can be organized into the following:\n",
    "\n",
    "1. The intervals for all reported values are determined by \"Week Ending.\" Where, the \"Week Ending\" represents the time intervals at which sales data were collected.\n",
    "\n",
    "2. Product types are categorized into \"Adult-Use\" or \"Medical Marajuana.\" Such that, the number of sales, in terms of quantities or dollar amounts, are reported for each category. Additionally, there are measures that Total the sales, in terms of quantities or dollar amounts, for both categories of product types.\n",
    "\n",
    "3. Given the product quantities and dollar amounts sold, the data also contains the average product prices at each time interval.\n",
    "\n",
    "In summary, this dataset contains a time-series of cannabis product sales, further segmented by their product type (e.g. Retail Marajuana vs Medical Marajuana)"
   ]
  },
  {
   "cell_type": "markdown",
   "metadata": {},
   "source": [
    "### 2. Clean and Process Data\n",
    "\n",
    "In general, most of the datatypes are correct.\n",
    "\n",
    "Float64 represents the variables that represent the dollar amounts of products sold:\n",
    "    - Adult-Use Retail Sales\n",
    "    - Medical Marijuana Retail Sales\n",
    "    - Total Adult-Use and Medical Sales\n",
    "    - Adult-Use Average Product Price\n",
    "    - Medical Average Product Price\n",
    "\n",
    "Int64 represents the variables that represent the number of products sold:\n",
    "    - Adult-Use Products Sold\n",
    "    - Medical Products Sold \n",
    "    - Total Products Sold\n",
    "\n",
    "However, \"Week Ending\" will need to be converted to datetime. The rationale being: this variable represents the time intervals at which, presumably sales data was collected. Therefore, for ease of future statitiscal operations, \"Week Ending\" will be converted to the type, DateTime.\n",
    "\n",
    "Regarding missing values, there are none. So, no methods will be required to process or modify missing data."
   ]
  },
  {
   "cell_type": "code",
   "execution_count": 10,
   "metadata": {},
   "outputs": [],
   "source": [
    "# Convert Week Ending to Datetime\n",
    "df['Week Ending'] = pd.to_datetime(df['Week Ending'])"
   ]
  },
  {
   "cell_type": "code",
   "execution_count": 12,
   "metadata": {},
   "outputs": [
    {
     "name": "stdout",
     "output_type": "stream",
     "text": [
      "<class 'pandas.core.frame.DataFrame'>\n",
      "RangeIndex: 41 entries, 0 to 40\n",
      "Data columns (total 9 columns):\n",
      " #   Column                             Non-Null Count  Dtype         \n",
      "---  ------                             --------------  -----         \n",
      " 0   Week Ending                        41 non-null     datetime64[ns]\n",
      " 1   Adult-Use Retail Sales             41 non-null     float64       \n",
      " 2   Medical Marijuana Retail Sales     41 non-null     float64       \n",
      " 3   Total Adult-Use and Medical Sales  41 non-null     float64       \n",
      " 4   Adult-Use Products Sold            41 non-null     int64         \n",
      " 5   Medical Products Sold              41 non-null     int64         \n",
      " 6   Total Products Sold                41 non-null     int64         \n",
      " 7   Adult-Use Average Product Price    41 non-null     float64       \n",
      " 8   Medical Average Product Price      41 non-null     float64       \n",
      "dtypes: datetime64[ns](1), float64(5), int64(3)\n",
      "memory usage: 3.0 KB\n"
     ]
    }
   ],
   "source": [
    "# Check datatypes after type conversion\n",
    "df.info()"
   ]
  },
  {
   "cell_type": "markdown",
   "metadata": {},
   "source": [
    "## Exploratory Data analysis\n",
    "\n",
    "1. Visualize Tot"
   ]
  },
  {
   "cell_type": "code",
   "execution_count": null,
   "metadata": {},
   "outputs": [],
   "source": []
  },
  {
   "cell_type": "code",
   "execution_count": null,
   "metadata": {},
   "outputs": [],
   "source": []
  }
 ],
 "metadata": {
  "kernelspec": {
   "display_name": "Python 3",
   "language": "python",
   "name": "python3"
  },
  "language_info": {
   "codemirror_mode": {
    "name": "ipython",
    "version": 3
   },
   "file_extension": ".py",
   "mimetype": "text/x-python",
   "name": "python",
   "nbconvert_exporter": "python",
   "pygments_lexer": "ipython3",
   "version": "3.10.10"
  },
  "orig_nbformat": 4
 },
 "nbformat": 4,
 "nbformat_minor": 2
}
